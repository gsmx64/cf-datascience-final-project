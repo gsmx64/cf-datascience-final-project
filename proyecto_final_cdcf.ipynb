{
 "cells": [
  {
   "cell_type": "markdown",
   "id": "d01f4724-f7de-488c-85d8-5917870eb6d7",
   "metadata": {
    "id": "d01f4724-f7de-488c-85d8-5917870eb6d7"
   },
   "source": [
    "# PROYECTO FINAL DE CIENCIA DE DATOS - BOOTCAMP CÓDIGO FACILITO"
   ]
  },
  {
   "cell_type": "markdown",
   "id": "f1651112",
   "metadata": {
    "id": "f1651112"
   },
   "source": [
    "## Realizado por Gonzalo Mahserdjian y Simón Maquilón"
   ]
  },
  {
   "cell_type": "markdown",
   "id": "931fef0f-927e-4ef5-8c4f-affdd6aed9d0",
   "metadata": {
    "id": "931fef0f-927e-4ef5-8c4f-affdd6aed9d0"
   },
   "source": [
    "### INSTALAR REQUERIMIENTOS"
   ]
  },
  {
   "cell_type": "markdown",
   "id": "aec9e98a",
   "metadata": {
    "id": "aec9e98a"
   },
   "source": [
    "Instalo los requerimientos necesarios para este Jupiter Notebook:"
   ]
  },
  {
   "cell_type": "code",
   "execution_count": null,
   "id": "01d759a6-2c67-42cb-bc0e-a40e17864a5e",
   "metadata": {},
   "outputs": [],
   "source": [
    "!python -m pip uninstall python-dotenv pyodbc polars pandas numpy altair vega_datasets pyarrow matplotlib"
   ]
  },
  {
   "cell_type": "code",
   "execution_count": null,
   "id": "nGQvPzL82xYB",
   "metadata": {
    "id": "nGQvPzL82xYB"
   },
   "outputs": [],
   "source": [
    "!python -m pip install python-dotenv pyodbc polars pandas numpy altair vega_datasets pyarrow matplotlib"
   ]
  },
  {
   "cell_type": "code",
   "execution_count": null,
   "id": "b0972a6d",
   "metadata": {
    "id": "b0972a6d"
   },
   "outputs": [],
   "source": [
    "!pip freeze > requirements.txt"
   ]
  },
  {
   "cell_type": "markdown",
   "id": "5c1dc6d6",
   "metadata": {
    "id": "5c1dc6d6"
   },
   "source": [
    "#### Imports"
   ]
  },
  {
   "cell_type": "code",
   "execution_count": null,
   "id": "f4878a40",
   "metadata": {
    "id": "f4878a40"
   },
   "outputs": [],
   "source": [
    "import csv\n",
    "import pyodbc\n",
    "import asyncio\n",
    "import polars as pl\n",
    "import pandas as pd\n",
    "import pyarrow as pa\n",
    "import altair as alt\n",
    "import matplotlib.pyplot as plt\n",
    "\n",
    "from pathlib import Path\n",
    "from vega_datasets import data\n",
    "from IPython.display import display\n",
    "from dotenv import load_dotenv, dotenv_values"
   ]
  },
  {
   "cell_type": "markdown",
   "id": "94d8d7df-b476-4222-b9b9-b1ee9a8ac529",
   "metadata": {
    "id": "94d8d7df-b476-4222-b9b9-b1ee9a8ac529"
   },
   "source": [
    "### OBTENCIÓN DE DATOS PARA DATASETS"
   ]
  },
  {
   "cell_type": "markdown",
   "id": "7801ad89",
   "metadata": {
    "id": "7801ad89"
   },
   "source": [
    "Para armar el DataSet con los datos con los que voy a trabajar, realicé una gran consulta de SQL (Big Query), como traer todos los años juntos a veces se colgaba la conexión por VPN o traía menos datos, los separé primero por años y luego los unifiqué en un único arhivo:"
   ]
  },
  {
   "cell_type": "code",
   "execution_count": null,
   "id": "6731afc5-0330-4298-abf1-3c5859aa2abd",
   "metadata": {
    "id": "6731afc5-0330-4298-abf1-3c5859aa2abd"
   },
   "outputs": [],
   "source": [
    "load_dotenv(dotenv_path=\".env\", verbose=True)\n",
    "cfg = dotenv_values(\".env\")\n",
    "\n",
    "DATASET_SYNC = False\n",
    "PRINT_QUERY = False\n",
    "START_YEAR = 2018\n",
    "END_YEAR = 2023\n",
    "DATA_PATH = 'data/'\n",
    "SQL_FILE_PATH = 'sql/bigquery.sql'\n",
    "\n",
    "def read_sql_file(path: str, search: str, replace: str) -> None:\n",
    "    \"\"\"\n",
    "    Edits file content\n",
    "    \"\"\"\n",
    "    if Path(path).suffix == '.sql':\n",
    "        try:\n",
    "            with open(path, 'r', encoding='utf-8') as file:\n",
    "                data = file.read()\n",
    "\n",
    "            return data.replace(search, replace)\n",
    "\n",
    "        except FileNotFoundError as error:\n",
    "            print(error)\n",
    "            return None\n",
    "\n",
    "def get_query(year: str) -> str:\n",
    "    return read_sql_file(SQL_FILE_PATH, '{year}', year)\n",
    "\n",
    "\n",
    "if __name__ == '__main__':\n",
    "\n",
    "    try:\n",
    "        db_string = f\"\"\"DRIVER={cfg['DB_DRIVER']};\n",
    "                        SERVER={cfg['DB_HOST']};\n",
    "                        DATABASE={cfg['DB_DATABASE']};\n",
    "                        UID={cfg['DB_USER']};\n",
    "                        PWD={cfg['DB_PASSWORD']}\"\"\"\n",
    "\n",
    "        if DATASET_SYNC:\n",
    "            connect = pyodbc.connect(db_string)\n",
    "\n",
    "            for year in range(START_YEAR, END_YEAR+1):\n",
    "                if(PRINT_QUERY):\n",
    "                    print(get_query(str(year)))\n",
    "\n",
    "                with connect.cursor() as cursor:\n",
    "                    cursor.execute(get_query(str(year)))\n",
    "                    rows = cursor.fetchall()\n",
    "\n",
    "                    with open(r'./'+DATA_PATH+'/DataSet_'+str(year)+'.csv', 'w', encoding=\"utf-8\", newline='') as csvfile:\n",
    "                        writer = csv.writer(csvfile)\n",
    "                        writer.writerow([x[0] for x in cursor.description])  # column headers\n",
    "\n",
    "                        for row in rows:\n",
    "                            writer.writerow(row)\n",
    "\n",
    "            await asyncio.sleep(10)\n",
    "\n",
    "            df = pl.read_csv(f'{DATA_PATH}DataSet_*.csv')\n",
    "            df.write_csv(f'{DATA_PATH}DataSet.csv')\n",
    "\n",
    "            print('>>> ¡Dataset sincronizado con éxito!')\n",
    "        else:\n",
    "            print('>>> ¡Sincronización de Dataset no habilitada, se utilizará la versión offline!')\n",
    "\n",
    "    except pyodbc.OperationalError as err:\n",
    "        print('>>> ¡No fue posible realizar la conexión!')\n",
    "        print(err)\n"
   ]
  },
  {
   "cell_type": "markdown",
   "id": "aade75bc",
   "metadata": {
    "id": "aade75bc"
   },
   "source": [
    "### LECTURA DEL CSV Y DEPURACIÓN DEL DATASET"
   ]
  },
  {
   "cell_type": "markdown",
   "id": "1b270c3c",
   "metadata": {
    "id": "1b270c3c"
   },
   "source": [
    "Variables para el DataSet unificado con los últimos 6 años y para el DataSet limpio:"
   ]
  },
  {
   "cell_type": "code",
   "execution_count": null,
   "id": "669ae582",
   "metadata": {
    "id": "669ae582"
   },
   "outputs": [],
   "source": [
    "DATA_PATH = 'data/'\n",
    "file_path = f'{DATA_PATH}DataSet.csv'\n",
    "file_path_cleaned = f'{DATA_PATH}DataSetCleaned.csv'"
   ]
  },
  {
   "cell_type": "markdown",
   "id": "0c4b7de4",
   "metadata": {
    "id": "0c4b7de4"
   },
   "source": [
    "Realizo la lectura del DataSet unificado, y visualizo las primeras 5 columnas:"
   ]
  },
  {
   "cell_type": "code",
   "execution_count": null,
   "id": "bcdbfa69-a3ef-49c9-b7c7-58166a86dbef",
   "metadata": {
    "id": "bcdbfa69-a3ef-49c9-b7c7-58166a86dbef"
   },
   "outputs": [],
   "source": [
    "df = pl.read_csv(file_path)\n",
    "df.head()"
   ]
  },
  {
   "cell_type": "markdown",
   "id": "284072a9",
   "metadata": {
    "id": "284072a9"
   },
   "source": [
    "Exploro las las métricas básicas sobre las columnas del DataSet:"
   ]
  },
  {
   "cell_type": "code",
   "execution_count": null,
   "id": "57dd2290",
   "metadata": {
    "id": "57dd2290"
   },
   "outputs": [],
   "source": [
    "df.describe()"
   ]
  },
  {
   "cell_type": "markdown",
   "id": "5dfb9ef9",
   "metadata": {
    "id": "5dfb9ef9"
   },
   "source": [
    "Dada la característica del DataSet que armé y a donde apunto con los mismos mucho no me sirven estos resultados, por empezar las primeras 2 columnas son IDs de clientes y sus contratos, tengo strings de nombres de barrios y constantes de nombres de planes, periodos, etc, lo único rescatable sería que \"1 de Mayo\" es el barrio que menor cantidad de veces sale y su opuesto \"Villa Eucaristica\" es el que más sale, y por otro lado que 6mbps es el plan más chico (en 2018) de internet (es un plan viejo, actualmente 50mbps es el menor) y 300mbps es el mayor, más adelante voy a comprobar todo esto."
   ]
  },
  {
   "cell_type": "markdown",
   "id": "a1b4ab5e",
   "metadata": {
    "id": "a1b4ab5e"
   },
   "source": [
    "Verifico la cantidad de líneas y columnas del DataSet:"
   ]
  },
  {
   "cell_type": "code",
   "execution_count": null,
   "id": "7f58ad05",
   "metadata": {
    "id": "7f58ad05"
   },
   "outputs": [],
   "source": [
    "df.shape"
   ]
  },
  {
   "cell_type": "markdown",
   "id": "5238fd6f",
   "metadata": {
    "id": "5238fd6f"
   },
   "source": [
    "A continuación verifico si hay valores NA provenientes desde la consulta SQL:"
   ]
  },
  {
   "cell_type": "code",
   "execution_count": null,
   "id": "VdCz5GcT2xYI",
   "metadata": {
    "id": "VdCz5GcT2xYI"
   },
   "outputs": [],
   "source": [
    "df.select(\n",
    "    pl\n",
    "    .lit('NA').str\n",
    "    .contains(\n",
    "        pl.col('Internet_Tipo')\n",
    "    )\n",
    "    .filter(\n",
    "        pl.col(\"Internet_Tipo\") == True\n",
    "    )\n",
    ")"
   ]
  },
  {
   "cell_type": "code",
   "execution_count": null,
   "id": "59ec689c",
   "metadata": {
    "id": "59ec689c"
   },
   "outputs": [],
   "source": [
    "df.select(\n",
    "    pl\n",
    "    .lit('NA').str\n",
    "    .contains(\n",
    "        pl.col('Estado')\n",
    "    )\n",
    "    .filter(\n",
    "        pl.col(\"Estado\") == True\n",
    "    )\n",
    ")"
   ]
  },
  {
   "cell_type": "markdown",
   "id": "555455c6",
   "metadata": {
    "id": "555455c6"
   },
   "source": [
    "Busco si hay valores nulos:"
   ]
  },
  {
   "cell_type": "code",
   "execution_count": null,
   "id": "7a4d1f16",
   "metadata": {
    "id": "7a4d1f16"
   },
   "outputs": [],
   "source": [
    "df.select(\n",
    "    pl\n",
    "    .all()\n",
    "    .null_count()\n",
    ").to_dicts()[0]"
   ]
  },
  {
   "cell_type": "markdown",
   "id": "cc69325b",
   "metadata": {
    "id": "cc69325b"
   },
   "source": [
    "Se encontró un único valor nulo en columna \"Barrio\", realizo la limpieza..."
   ]
  },
  {
   "cell_type": "code",
   "execution_count": null,
   "id": "244909e0-a190-4352-91db-65d4283cb662",
   "metadata": {},
   "outputs": [],
   "source": [
    "df = df.fill_null(value='Sin barrio')"
   ]
  },
  {
   "cell_type": "markdown",
   "id": "bbd2fc1e",
   "metadata": {
    "id": "bbd2fc1e"
   },
   "source": [
    "Busco duplicados en la columna de \"ID_Cliente\":"
   ]
  },
  {
   "cell_type": "code",
   "execution_count": null,
   "id": "efd9c4ff",
   "metadata": {
    "id": "efd9c4ff"
   },
   "outputs": [],
   "source": [
    "df.filter(\n",
    "    pl\n",
    "    .count(\"ID_Cliente\")\n",
    "    .over(df.columns) > 1\n",
    ")"
   ]
  },
  {
   "cell_type": "markdown",
   "id": "61374b8c",
   "metadata": {
    "id": "61374b8c"
   },
   "source": [
    "Unifico los duplicados de \"ID_Cliente\" manteniendo los primeros resultados de nada caso, como la consulta SQL ordena los más recientes primero, quedarían los contratos vigentes:"
   ]
  },
  {
   "cell_type": "code",
   "execution_count": null,
   "id": "c48756d2",
   "metadata": {
    "id": "c48756d2"
   },
   "outputs": [],
   "source": [
    "df = df.unique(keep='first', maintain_order=True)"
   ]
  },
  {
   "cell_type": "markdown",
   "id": "c529ecc1",
   "metadata": {
    "id": "c529ecc1"
   },
   "source": [
    "Realizo la misma búsqueda de duplicados en la columna de \"ID_Contrato\":"
   ]
  },
  {
   "cell_type": "code",
   "execution_count": null,
   "id": "3eef1c03",
   "metadata": {
    "id": "3eef1c03"
   },
   "outputs": [],
   "source": [
    "df.filter(\n",
    "    pl\n",
    "    .count(\"ID_Contrato\")\n",
    "    .over(df.columns) > 1\n",
    ")"
   ]
  },
  {
   "cell_type": "markdown",
   "id": "73bd0546",
   "metadata": {
    "id": "73bd0546"
   },
   "source": [
    "Unifico ahora los duplicados de \"ID Contrato\":"
   ]
  },
  {
   "cell_type": "code",
   "execution_count": null,
   "id": "96d94289",
   "metadata": {
    "id": "96d94289"
   },
   "outputs": [],
   "source": [
    "df = df.unique(keep='first', maintain_order=True)"
   ]
  },
  {
   "cell_type": "markdown",
   "id": "c6ae74a3",
   "metadata": {
    "id": "c6ae74a3"
   },
   "source": [
    "Con el DataSet limpio, guardo todo en el archivo \"DataSetCleaned.csv\":"
   ]
  },
  {
   "cell_type": "code",
   "execution_count": null,
   "id": "7ce0e42f",
   "metadata": {
    "id": "7ce0e42f"
   },
   "outputs": [],
   "source": [
    "df.write_csv(file_path_cleaned)"
   ]
  },
  {
   "cell_type": "markdown",
   "id": "d1a938bd",
   "metadata": {
    "id": "d1a938bd"
   },
   "source": [
    "Leo el nuevo DataSet y vuelvo a verificar si quedó algún nulo y duplicados:"
   ]
  },
  {
   "cell_type": "code",
   "execution_count": null,
   "id": "51b4b3ca",
   "metadata": {
    "id": "51b4b3ca"
   },
   "outputs": [],
   "source": [
    "df = pl.read_csv(file_path_cleaned)\n",
    "\n",
    "df.select(\n",
    "    pl\n",
    "    .all()\n",
    "    .null_count()\n",
    ")"
   ]
  },
  {
   "cell_type": "code",
   "execution_count": null,
   "id": "b314701a",
   "metadata": {
    "id": "b314701a"
   },
   "outputs": [],
   "source": [
    "df.select(\n",
    "    pl\n",
    "    .all()\n",
    "    .null_count()\n",
    ").to_dicts()[0]"
   ]
  },
  {
   "cell_type": "code",
   "execution_count": null,
   "id": "30f1cb82",
   "metadata": {
    "id": "30f1cb82"
   },
   "outputs": [],
   "source": [
    "df.filter(\n",
    "    pl\n",
    "    .count(\"ID_Contrato\")\n",
    "    .over(df.columns) > 1\n",
    ")"
   ]
  },
  {
   "cell_type": "markdown",
   "id": "99cac871",
   "metadata": {
    "id": "99cac871"
   },
   "source": [
    "Visualizo parcialmente el DataSet:"
   ]
  },
  {
   "cell_type": "code",
   "execution_count": null,
   "id": "fa5aad1a",
   "metadata": {
    "id": "fa5aad1a"
   },
   "outputs": [],
   "source": [
    "display(df)"
   ]
  },
  {
   "cell_type": "markdown",
   "id": "5b93c049",
   "metadata": {
    "id": "5b93c049"
   },
   "source": [
    "### ANÁLISIS DE LOS DATOS OBTENIDOS"
   ]
  },
  {
   "cell_type": "markdown",
   "id": "8b531a19",
   "metadata": {
    "id": "8b531a19"
   },
   "source": [
    "Luego de realizada la consulta con la big query al motor de MSSQL, y posterior limpieza de los datos con Polars completando 1 solo dato nulo de un barrio inexistente en la celda \"Barrio\" del cliente en cuestión y eliminando los duplicados a favor del más reciente, se verifica que los datos son consistentes poorque todas las lineas (rows) tienen la misma cantidad de valores en las columnas (cols).\n",
    "\n",
    "¿Cúal es el por qué de los duplicados?: La base de datos es de un sistema donde no estaba pensado para evaluar los upgrades de los planes de internet, entonces logré obtener ese dato comparando tablas con contratos que tengan algún ticket con leyenda \"Upgrade\" (mejora en el plan del servicio de internet) en el descriptor del mismo, con un margen de 12 meses y esto en algun que otro cliente me trajo esos duplicados. Para generalizar, es porque en algunos sufrieron mudanzas, otros se arrepintieron del servicio o bien le ofrecieron pasarse a fibra óptica y luego por imposibilidades técnicas u otras que no puedo comentar, aún esa zona no contará con tendido de fibra óptica, dejando el ticket en \"Time out\" y devolviendo al cliente solamente con el servicio de Aire o Inalámbrico.\n",
    "\n",
    "Como el gran trabajo se realizó en la big query y luego la limpieza, no se detectan anomalías. Bueno, creo que si podría citar una anomalía que me encontre al realizar la big query, en donde habían clientes que no entraban en la categoría de \"Upgrade\" pero no eran ni \"Altas\" ni \"Bajas\" del servicio, entonces los bauticé como \"Fail Upgrade\", porque fueron casos donde imposibilidades técnicas hicieron que no se concrete el Upgrade pero que no se perdía el cliente, quedaba con el mismo plan ya existente y sin cambios, o sea tampoco se subscribió al servicio de TV por IP.\n",
    "\n",
    "A continuación se evaluarán los datos para identificar tendencias evidentes, y responder a las siguientes preguntas:\n",
    "* Altas del servicio de internet SIPA-AIRE vs SIPA-FIBRA según el tipo de internet en los últimos 6 años.\n",
    "* Bajas del servicio de internet SIPA-AIRE vs SIPA-FIBRA según el tipo de internet en los últimos 6 años.\n",
    "* Actualizaciones del servicio de internet SIPA AIRE a SIPA-FIBRA.\n",
    "* Actualizaciones del servicio de internet SIPA AIRE al mismo tipo de servicio.\n",
    "* Ver que barrio es el que tiene mayor demanda en el tiempo y según el tipo de internet.\n",
    "* Ver que ancho de banda es el que tiene mayor demanda en el tiempo y según el tipo de internet.\n",
    "* Ver que plan de internet es el que tiene mayor demanda en el tiempo y según el tipo de internet.\n",
    "* Ver que cantidad de clientes tienen contratado IPTV en el tiempo."
   ]
  },
  {
   "cell_type": "markdown",
   "id": "535a10cc",
   "metadata": {
    "id": "535a10cc"
   },
   "source": [
    "##### -> Altas del servicio de internet SIPA-AIRE vs SIPA-FIBRA en los últimos 6 años:"
   ]
  },
  {
   "cell_type": "markdown",
   "id": "1f68d59c",
   "metadata": {
    "id": "1f68d59c"
   },
   "source": [
    "Con la siguiente fórmula consigo saber cuantos clientes de cada tipo de servicio hay en altas por año..."
   ]
  },
  {
   "cell_type": "code",
   "execution_count": null,
   "id": "9429b332",
   "metadata": {
    "id": "9429b332"
   },
   "outputs": [],
   "source": [
    "altas = \\\n",
    "(\n",
    "    df\n",
    "    .filter(\n",
    "        pl.col(\"Estado\") == \"ALTA\"\n",
    "    )\n",
    "    .pivot(\n",
    "        index = \"Internet_Tipo\",\n",
    "        values = \"Periodo\",\n",
    "        columns = \"Periodo\",\n",
    "        aggregate_function = \"count\"\n",
    "    )\n",
    ")\n",
    "\n",
    "display(altas)"
   ]
  },
  {
   "cell_type": "markdown",
   "id": "48ff9cfa",
   "metadata": {
    "id": "48ff9cfa"
   },
   "source": [
    "Pero para poder usarlo con altair tuve que modificar la salida:"
   ]
  },
  {
   "cell_type": "code",
   "execution_count": null,
   "id": "08332347",
   "metadata": {
    "id": "08332347"
   },
   "outputs": [],
   "source": [
    "altas2 = \\\n",
    "(\n",
    "    df\n",
    "    .filter(\n",
    "        pl.col(\"Estado\") == \"ALTA\"\n",
    "    )\n",
    "    .group_by(\n",
    "        \"Internet_Tipo\",\n",
    "        \"Periodo\",\n",
    "        maintain_order = True\n",
    "    )\n",
    "    .agg(\n",
    "        count=(\n",
    "            pl.count(\"Internet_Tipo\")\n",
    "        )\n",
    "    )\n",
    ")\n",
    "\n",
    "display(altas2)"
   ]
  },
  {
   "cell_type": "markdown",
   "id": "1657d6e4",
   "metadata": {
    "id": "1657d6e4"
   },
   "source": [
    "##### Visualización"
   ]
  },
  {
   "cell_type": "code",
   "execution_count": null,
   "id": "7c0ea29b",
   "metadata": {
    "id": "7c0ea29b"
   },
   "outputs": [],
   "source": [
    "altas2_chart = alt.Chart(altas2).mark_bar().encode(\n",
    "    x=alt.X(\n",
    "        \"Internet_Tipo\",\n",
    "        title=\"\"\n",
    "    ),\n",
    "    y=alt.Y(\n",
    "        \"count:Q\",\n",
    "        title=\"Count\"\n",
    "    ),\n",
    "    column=\"Periodo:N\",\n",
    "    color=alt.Color(\n",
    "        \"Periodo:N\",\n",
    "        legend=None\n",
    "    )\n",
    ").properties(\n",
    "    title='Altas de Servicio por Año',\n",
    "    width=120,\n",
    "    height=250\n",
    ")\n",
    "\n",
    "display(altas2_chart)"
   ]
  },
  {
   "cell_type": "markdown",
   "id": "5682049a",
   "metadata": {
    "id": "5682049a"
   },
   "source": [
    "Un dato curioso pero obvio, es el salto de contratación de servicio de internet en el primer año de pandemia (2020) en el servicio de aire, casi duplicado al año anterior, y reducido pero por crecimiento del emergente servicio de fibra óptica para el mismo año. Para los siguientes 2 años el servicio de Aire se observa un estancamiento, mientras el servicio de Fibra se triplicó. Y en 2003 el servicio se aire se triplicó, mientras que el de fibra se multiplicó por 6 veces el mismo valor de 2020."
   ]
  },
  {
   "cell_type": "markdown",
   "id": "1627fb00",
   "metadata": {
    "id": "1627fb00"
   },
   "source": [
    "##### -> Bajas del servicio de internet SIPA-AIRE vs SIPA-FIBRA en los últimos 6 años:"
   ]
  },
  {
   "cell_type": "markdown",
   "id": "88995a50",
   "metadata": {
    "id": "88995a50"
   },
   "source": [
    "Como en la pregunta anterior pero enfocada a las bajas, repito la fórmula para saber cuantos clientes de cada tipo de servicio se dieron de baja por año..."
   ]
  },
  {
   "cell_type": "code",
   "execution_count": null,
   "id": "219fde56",
   "metadata": {
    "id": "219fde56"
   },
   "outputs": [],
   "source": [
    "bajas = \\\n",
    "(\n",
    "    df\n",
    "    .filter(\n",
    "        pl.col(\"Estado\") == \"BAJA\"\n",
    "    )\n",
    "    .pivot(\n",
    "        index = \"Internet_Tipo\",\n",
    "        values = \"Periodo\",\n",
    "        columns = \"Periodo\",\n",
    "        aggregate_function = \"count\"\n",
    "    )\n",
    "    .fill_null(\n",
    "        value=0\n",
    "    )\n",
    ")\n",
    "\n",
    "display(bajas)"
   ]
  },
  {
   "cell_type": "markdown",
   "id": "aa7b4d26",
   "metadata": {
    "id": "aa7b4d26"
   },
   "source": [
    "Al igual que en el caso de las altas, para poder usarlo con altair tuve que modificar la salida:"
   ]
  },
  {
   "cell_type": "code",
   "execution_count": null,
   "id": "133b3fe3",
   "metadata": {
    "id": "133b3fe3"
   },
   "outputs": [],
   "source": [
    "bajas2 = \\\n",
    "(\n",
    "    df\n",
    "    .filter(\n",
    "        pl.col(\"Estado\") == \"BAJA\"\n",
    "    )\n",
    "    .group_by(\n",
    "        \"Internet_Tipo\",\n",
    "        \"Periodo\",\n",
    "        maintain_order = True\n",
    "    )\n",
    "    .agg(\n",
    "        count=(\n",
    "            pl.count(\"Internet_Tipo\")\n",
    "        )\n",
    "    )\n",
    ")\n",
    "\n",
    "display(bajas2)"
   ]
  },
  {
   "cell_type": "markdown",
   "id": "c1d54fff",
   "metadata": {
    "id": "c1d54fff"
   },
   "source": [
    "##### Visualización"
   ]
  },
  {
   "cell_type": "code",
   "execution_count": null,
   "id": "97d5d007",
   "metadata": {
    "id": "97d5d007"
   },
   "outputs": [],
   "source": [
    "bajas2_chart = alt.Chart(bajas2).mark_bar().encode(\n",
    "    x=alt.X(\n",
    "        \"Internet_Tipo\",\n",
    "        title=\"\"\n",
    "    ),\n",
    "    y=alt.Y(\n",
    "        \"count:Q\",\n",
    "        title=\"Count\"\n",
    "    ),\n",
    "    column=\"Periodo:N\",\n",
    "    color=alt.Color(\n",
    "        \"Periodo:N\",\n",
    "        legend=None\n",
    "    )\n",
    ").properties(\n",
    "    title='Bajas de Servicio por Año',\n",
    "    width=120,\n",
    "    height=250\n",
    ")\n",
    "\n",
    "display(bajas2_chart)"
   ]
  },
  {
   "cell_type": "markdown",
   "id": "99ba5f76",
   "metadata": {
    "id": "99ba5f76"
   },
   "source": [
    "En los años 2018 y 2019 no hay datos de bajas de fibra óptica. Casi en proporción a las altas en primer y segundo año de pandemia (2020-2021), se observa casi duplicadas las bajas del servicio de aire, si analizamos la situación económica del país en esas fechas puede deberse al factor económico y al mayor consumo del servicio de forma familiar y descontento del rendimiento, en su mayor proporción debido a que el uso normal familiar se vió superado a lo que cada cliente tenía contratado y la creencia de que el servicio les funcionaba mal por problemas del propio proveedor y no la realidad del propio consumo interno."
   ]
  },
  {
   "cell_type": "markdown",
   "id": "090e4ceb",
   "metadata": {
    "id": "090e4ceb"
   },
   "source": [
    "##### -> Actualizaciones del servicio de internet SIPA AIRE a SIPA-FIBRA según el tipo de internet:"
   ]
  },
  {
   "cell_type": "code",
   "execution_count": null,
   "id": "15d95efd",
   "metadata": {
    "id": "15d95efd"
   },
   "outputs": [],
   "source": [
    "upgrade_fibra = \\\n",
    "(\n",
    "    df\n",
    "    .filter(\n",
    "        (\n",
    "            pl.col(\"Estado\") == \"UPGRADE\"\n",
    "        ) &\n",
    "        (\n",
    "            pl.col(\"Internet_Tipo\") == \"Fibra\"\n",
    "        )\n",
    "    )\n",
    "    .pivot(\n",
    "        index = \"Internet_Tipo\",\n",
    "        values = \"Periodo\",\n",
    "        columns = \"Periodo\",\n",
    "        aggregate_function = \"count\"\n",
    "    )\n",
    ")\n",
    "\n",
    "display(upgrade_fibra)"
   ]
  },
  {
   "cell_type": "markdown",
   "id": "faf7c42b",
   "metadata": {
    "id": "faf7c42b"
   },
   "source": [
    "Dato curioso, solo figuran 2, esto se debe a que estaban reemplazando el contrato anterior por el servicio de fibra en lugar de hacer uno nuevo. Por lo cual no se realizará la visualización."
   ]
  },
  {
   "cell_type": "markdown",
   "id": "8d2e914f",
   "metadata": {
    "id": "8d2e914f"
   },
   "source": [
    "##### -> Actualizaciones del servicio de internet SIPA AIRE al mismo tipo de servicio según el tipo de internet:"
   ]
  },
  {
   "cell_type": "code",
   "execution_count": null,
   "id": "276e4044",
   "metadata": {
    "id": "276e4044"
   },
   "outputs": [],
   "source": [
    "upgrade_mismo = \\\n",
    "(\n",
    "    df\n",
    "    .filter(\n",
    "        (\n",
    "            pl.col(\"Estado\") == \"UPGRADE\"\n",
    "        ) &\n",
    "        (\n",
    "            pl.col(\"Internet_Tipo\") == \"Aire\"\n",
    "        )\n",
    "    )\n",
    "    .pivot(\n",
    "        index = \"Internet_Tipo\",\n",
    "        values = \"Periodo\",\n",
    "        columns = \"Periodo\",\n",
    "        aggregate_function = \"count\"\n",
    "    )\n",
    ")\n",
    "\n",
    "display(upgrade_mismo)"
   ]
  },
  {
   "cell_type": "markdown",
   "id": "8ae9c82b",
   "metadata": {
    "id": "8ae9c82b"
   },
   "source": [
    "Reformulo el código para utilizarlo en altair:"
   ]
  },
  {
   "cell_type": "code",
   "execution_count": null,
   "id": "e0ba3d9f",
   "metadata": {
    "id": "e0ba3d9f"
   },
   "outputs": [],
   "source": [
    "upgrade_mismo2 = (\n",
    "    df\n",
    "    .filter(\n",
    "        (\n",
    "            (\n",
    "                pl.col(\"Estado\") == \"UPGRADE\"\n",
    "            ) &\n",
    "            (\n",
    "                pl.col(\"Internet_Tipo\") == \"Aire\"\n",
    "            )\n",
    "        )\n",
    "    )\n",
    "    .group_by(\n",
    "        \"Periodo\",\n",
    "        maintain_order = True\n",
    "    )\n",
    "    .agg(\n",
    "        pl\n",
    "        .count(\"Periodo\")\n",
    "        .alias(\"count\")\n",
    "    )\n",
    ")\n",
    "\n",
    "display(upgrade_mismo2)"
   ]
  },
  {
   "cell_type": "markdown",
   "id": "24b8ee32",
   "metadata": {
    "id": "24b8ee32"
   },
   "source": [
    "##### Visualización"
   ]
  },
  {
   "cell_type": "code",
   "execution_count": null,
   "id": "44fd84a3",
   "metadata": {
    "id": "44fd84a3"
   },
   "outputs": [],
   "source": [
    "upgrade_mismo2_chart = alt.Chart(upgrade_mismo2).mark_bar().encode(\n",
    "    x=alt.X('Periodo:O', title='Periodo'),\n",
    "    y=alt.Y('count:Q', title='Count'),\n",
    "    color=alt.Color('Periodo', legend=None)\n",
    ").properties(\n",
    "    title='Upgrades de Servicio por Año',\n",
    "    width=400,\n",
    "    height=250\n",
    ")\n",
    "\n",
    "display(upgrade_mismo2_chart)"
   ]
  },
  {
   "cell_type": "markdown",
   "id": "4e1cf768",
   "metadata": {
    "id": "4e1cf768"
   },
   "source": [
    "Las actualizaciones tambien son bajas, esto se debe a que en su mayoría los planes chicos que quedaban obsoletos fueron actualizados en su ancho de banda, por ejemplo los planes de 6mbps fueron subidos a 10mbps, de 10mbps a 15mbps, y de 15mbps a 25mbps. Hoy día el plan comercial quedó fijo en 50mbps en servicio por aire, un pqueño grupo manteniene su serivicio en 25mbps y los Upgrades son pocos pero con proyeccion de crecimiento en el tiempo."
   ]
  },
  {
   "cell_type": "markdown",
   "id": "85528993",
   "metadata": {
    "id": "85528993"
   },
   "source": [
    "##### -> Ver que barrio es el que tiene mayor demanda en el tiempo y según el tipo de internet:"
   ]
  },
  {
   "cell_type": "code",
   "execution_count": null,
   "id": "QiDugx1B2xYX",
   "metadata": {
    "id": "QiDugx1B2xYX"
   },
   "outputs": [],
   "source": [
    "barrios_max = \\\n",
    "(\n",
    "    df\n",
    "    .filter(\n",
    "        (\n",
    "            pl.col(\"Estado\") == \"ALTA\"\n",
    "        ) |\n",
    "        (\n",
    "            pl.col(\"Estado\") == \"UPGRADE\"\n",
    "        )\n",
    "    )\n",
    "    .group_by(\n",
    "        [\"Periodo\", \"Internet_Tipo\"],\n",
    "        maintain_order = True\n",
    "    )\n",
    "    .agg(\n",
    "        pl\n",
    "        .col(\"Barrio\")\n",
    "        .explode()\n",
    "        .value_counts(sort = True)\n",
    "        .limit(1)\n",
    "        .alias('Barrio_Max')\n",
    "    )\n",
    ")\n",
    "\n",
    "barrios_max2 = \\\n",
    "barrios_max.select(\n",
    "    pl.all().exclude('Barrio_Max'),\n",
    "    pl.col('Barrio_Max').list.explode()\n",
    ").unnest('Barrio_Max')\n",
    "\n",
    "display(barrios_max2)"
   ]
  },
  {
   "cell_type": "markdown",
   "id": "02be9703",
   "metadata": {
    "id": "02be9703"
   },
   "source": [
    "En este cuadro se ve un gran crecimiento del servicio por aire en Montecristo en los cuatro años, ya que fue una apertura de disponibilidad de servicio en esa nueva zona, y en el caso de fibra se da lo mismo ya que Housing de Manantiales fue el primer barrio donde se empezó a ofrecer el servicio.\n",
    "En el primer año de pandemia se observa como lider al barrio Cañuelas, nueva plaza para este tipo de servicio con clientes pasandose del servicio por aire a fibra óptiza.\n",
    "En 2022 y 2023 se nota el desplazamiento del primer puesto por el barrio GreenVille 2, nueva plaza con la ampliación de cobertura por aire.\n",
    "En el 2021 cambia a Claros del Bosque por la misma razón, este barrio ahora es la nueva plaza en servicio por fibra óptica manteniendose como lider hasta la fecha.\n",
    "Para resumir, en todos los casos los grandes crecimientos en altas están dadas por nueva covertura de servicio en dichas zonas."
   ]
  },
  {
   "cell_type": "markdown",
   "id": "1b671e5b",
   "metadata": {
    "id": "1b671e5b"
   },
   "source": [
    "##### Visualización"
   ]
  },
  {
   "cell_type": "code",
   "execution_count": null,
   "id": "e0ca76bf",
   "metadata": {
    "id": "e0ca76bf"
   },
   "outputs": [],
   "source": [
    "barrios_chart = alt.Chart(barrios_max2).mark_point().encode(\n",
    "    x=alt.X(\"Periodo:O\", bin=False),\n",
    "    y=alt.Y(\"Barrio:N\", bin=False),\n",
    "    color=(\"Internet_Tipo\"),\n",
    ").properties(\n",
    "    width=400,\n",
    "    height=250\n",
    ")\n",
    "\n",
    "display(barrios_chart)"
   ]
  },
  {
   "cell_type": "code",
   "execution_count": null,
   "id": "8cceff42",
   "metadata": {
    "id": "8cceff42"
   },
   "outputs": [],
   "source": [
    "barrios_chart2_temp = df.to_pandas()\n",
    "\n",
    "filtered_df2 = barrios_chart2_temp[\n",
    "    (\n",
    "        (barrios_chart2_temp['Estado'] == 'ALTA') |\n",
    "        (barrios_chart2_temp['Estado'] == 'UPGRADE')\n",
    "    ) &\n",
    "    (barrios_chart2_temp['Internet_Tipo'] == 'Aire')\n",
    "]\n",
    "\n",
    "grouped_df2 = filtered_df2.groupby('Periodo')['Barrio'].value_counts().reset_index(name='barrio_unique2')\n",
    "\n",
    "grouped_df2['Periodo'], grouped_df2['Barrio'] = grouped_df2['Barrio'], grouped_df2['Periodo']\n",
    "\n",
    "grouped_df_pl2 = pl.DataFrame(grouped_df2)\n",
    "\n",
    "position_list2 = list(filtered_df2['Barrio'].unique())\n",
    "position_list2.append(None)\n",
    "position_dropdown2 = alt.binding_select(options=position_list2, name='Selecciona un Barrio: ')\n",
    "position_selection2 = alt.selection_point(fields=['Barrio'], bind=position_dropdown2)\n",
    "color2 = alt.condition(\n",
    "    position_selection2,\n",
    "    alt.Color('Periodo:N').legend(None),\n",
    "    alt.value('lightgray')\n",
    ")\n",
    "\n",
    "barrios_chart2 = alt.Chart(grouped_df_pl2).mark_line().encode(\n",
    "    x=alt.X('Barrio:N', title='Barrios SIPA - Servicio por Aire'),\n",
    "    y=alt.Y('barrio_unique2:Q', title='Altas & Upgrades'),\n",
    "    color=color2,\n",
    "    tooltip=['Periodo:N', 'barrio_unique2:Q']\n",
    ").properties(\n",
    "    width=600,\n",
    "    height=600\n",
    ").add_params(\n",
    "    position_selection2\n",
    ")\n",
    "\n",
    "display(barrios_chart2)"
   ]
  },
  {
   "cell_type": "code",
   "execution_count": null,
   "id": "43f5a4c5",
   "metadata": {
    "id": "43f5a4c5"
   },
   "outputs": [],
   "source": [
    "barrios_chart3_temp = df.to_pandas()\n",
    "\n",
    "filtered_df3 = barrios_chart3_temp[\n",
    "    (\n",
    "        (barrios_chart3_temp['Estado'] == 'ALTA') |\n",
    "        (barrios_chart3_temp['Estado'] == 'UPGRADE')\n",
    "    ) &\n",
    "    (barrios_chart3_temp['Internet_Tipo'] == 'Fibra')\n",
    "]\n",
    "\n",
    "grouped_df3 = filtered_df3.groupby('Periodo')['Barrio'].value_counts().reset_index(name='barrio_unique3')\n",
    "\n",
    "grouped_df3['Periodo'], grouped_df3['Barrio'] = grouped_df3['Barrio'], grouped_df3['Periodo']\n",
    "\n",
    "grouped_df_pl3 = pl.DataFrame(grouped_df3)\n",
    "\n",
    "position_list3 = filtered_df3['Barrio'].unique().tolist()\n",
    "position_list3.append(None)\n",
    "\n",
    "position_dropdown3 = alt.binding_select(options=position_list3, name='Selecciona un Barrio: ')\n",
    "position_selection3 = alt.selection_point(fields=['Barrio'], bind=position_dropdown3)\n",
    "color3 = alt.condition(\n",
    "    position_selection3,\n",
    "    alt.Color('Periodo:N').legend(None),\n",
    "    alt.value('lightgray'),\n",
    ")\n",
    "\n",
    "barrios_chart3 = alt.Chart(grouped_df_pl3).mark_line().encode(\n",
    "    x=alt.X('Barrio:N', title='Barrios SIPA - Servicio por Fibra'),\n",
    "    y=alt.Y('barrio_unique3:Q', title='Altas & Upgrades'),\n",
    "    color=color3,\n",
    "    tooltip=['Periodo:N', 'barrio_unique3:Q']\n",
    ").properties(\n",
    "    width=600,\n",
    "    height=600\n",
    ").add_params(\n",
    "    position_selection3\n",
    ")\n",
    "\n",
    "display(barrios_chart3)\n",
    "\n",
    "\"\"\"display(grouped_df3.to_dict())\n",
    "display(filtered_df3)\n",
    "display(position_list3)\n",
    "display(position_selection3)\"\"\""
   ]
  },
  {
   "cell_type": "markdown",
   "id": "13353b36",
   "metadata": {
    "id": "13353b36"
   },
   "source": [
    "##### -> Ver que ancho de banda es el que tiene mayor demanda en el tiempo y según el tipo de internet:"
   ]
  },
  {
   "cell_type": "code",
   "execution_count": null,
   "id": "a91036a7",
   "metadata": {
    "id": "a91036a7"
   },
   "outputs": [],
   "source": [
    "bw_max = \\\n",
    "(\n",
    "    df\n",
    "    .filter(\n",
    "        (\n",
    "            pl.col(\"Estado\") == \"ALTA\"\n",
    "        ) |\n",
    "        (\n",
    "            pl.col(\"Estado\") == \"UPGRADE\"\n",
    "        ) |\n",
    "        (\n",
    "            pl.col(\"Estado\") == \"FAILUPGRADE\"\n",
    "        )\n",
    "    )\n",
    "    .group_by(\n",
    "        [\"Periodo\", \"Internet_Tipo\"],\n",
    "        maintain_order = True\n",
    "    )\n",
    "    .agg(\n",
    "        pl.col(\"Ancho_Banda\")\n",
    "            .explode()\n",
    "            .value_counts(sort = True)\n",
    "            .limit(1)\n",
    "            .alias('Ancho_Banda_Max')\n",
    "    )\n",
    ")\n",
    "\n",
    "bw_max2 = \\\n",
    "bw_max.select(\n",
    "    pl.all().exclude('Ancho_Banda_Max'),\n",
    "    pl.col('Ancho_Banda_Max').list.explode()\n",
    ").unnest('Ancho_Banda_Max')\n",
    "\n",
    "display(bw_max2)"
   ]
  },
  {
   "cell_type": "markdown",
   "id": "2622285f",
   "metadata": {
    "id": "2622285f"
   },
   "source": [
    "Hasta el año 2020 en pandemia han liderado los planes más chicos (en ambos tipos de servicio), en el caso del servicio por Aire en 2021 se nota ese cambio de opción en el cliente por un servicio de mayor ancho de banda y se mantiene hasta la fecha porque no hay plan mayor a 50mbps por Aire, en cambio en fibra se mantuvo hasta recien llegado 2023 donde ya los clientes aspiran en su mayoría contar el el servicio de 300mbps, el mayor hasta la fecha."
   ]
  },
  {
   "cell_type": "markdown",
   "id": "bbe68920",
   "metadata": {
    "id": "bbe68920"
   },
   "source": [
    "##### Visualización"
   ]
  },
  {
   "cell_type": "code",
   "execution_count": null,
   "id": "90074dd5",
   "metadata": {
    "id": "90074dd5"
   },
   "outputs": [],
   "source": [
    "bw_chart = bw_max2.to_pandas()\n",
    "alt.Chart(bw_chart).mark_line().encode(\n",
    "    x=alt.X(\"Periodo:O\", bin=False, axis=alt.Axis()),\n",
    "    y=alt.Y(\"Ancho_Banda:N\", scale=alt.Scale(reverse=True)),\n",
    "    color=(\"Internet_Tipo\"),\n",
    ").properties(\n",
    "    width=400,\n",
    "    height=250\n",
    ")"
   ]
  },
  {
   "cell_type": "markdown",
   "id": "7fda48fb",
   "metadata": {
    "id": "7fda48fb"
   },
   "source": [
    "##### -> Ver que plan de internet es el que tiene mayor demanda en el tiempo y según el tipo de internet:"
   ]
  },
  {
   "cell_type": "code",
   "execution_count": null,
   "id": "c6787f8b",
   "metadata": {
    "id": "c6787f8b"
   },
   "outputs": [],
   "source": [
    "plan_max_temp = \\\n",
    "(\n",
    "    df\n",
    "    .filter(\n",
    "        (\n",
    "            pl.col(\"Estado\") == \"ALTA\"\n",
    "        ) |\n",
    "        (\n",
    "            pl.col(\"Estado\") == \"UPGRADE\"\n",
    "        ) |\n",
    "        (\n",
    "            pl.col(\"Estado\") == \"FAILUPGRADE\"\n",
    "        )\n",
    "    )\n",
    "    .group_by(\n",
    "        [\"Periodo\", \"Internet_Tipo\"],\n",
    "        maintain_order = True\n",
    "    )\n",
    "    .agg(\n",
    "        pl\n",
    "        .col(\"Plan_SIPA\")\n",
    "        .explode()\n",
    "        .value_counts(sort = True)\n",
    "        .limit(1)\n",
    "        .alias('Plan_SIPA_Max')\n",
    "    )\n",
    ")\n",
    "\n",
    "plan_max = \\\n",
    "plan_max_temp.select(\n",
    "    pl.all().exclude('Plan_SIPA_Max'),\n",
    "    pl.col('Plan_SIPA_Max').list.explode()\n",
    ").unnest('Plan_SIPA_Max')\n",
    "\n",
    "display(plan_max)"
   ]
  },
  {
   "cell_type": "markdown",
   "id": "46a317a8",
   "metadata": {
    "id": "46a317a8"
   },
   "source": [
    "En esta parte se notan los clásicos planes de cada servicio, quedando en menor lugar los planes de IPTV, la mayoría de los clientes prefieren únicamente el servicio de internet, una clara tendencia que el servicio tradicional de TV está en declive..."
   ]
  },
  {
   "cell_type": "markdown",
   "id": "637b16a3",
   "metadata": {
    "id": "637b16a3"
   },
   "source": [
    "##### Visualización"
   ]
  },
  {
   "cell_type": "code",
   "execution_count": null,
   "id": "f4543b65",
   "metadata": {
    "id": "f4543b65"
   },
   "outputs": [],
   "source": [
    "plan_max_chart = alt.Chart(plan_max).mark_line().encode(\n",
    "    x=alt.X(\n",
    "        \"Periodo:O\",\n",
    "        bin=False\n",
    "    ),\n",
    "    y=alt.Y(\n",
    "        \"Plan_SIPA:N\",\n",
    "        scale=alt.Scale(reverse=True)\n",
    "    ),\n",
    "    color=(\n",
    "        \"Internet_Tipo\"\n",
    "    ),\n",
    ").properties(\n",
    "    width=400,\n",
    "    height=250\n",
    ")\n",
    "\n",
    "display(plan_max_chart)"
   ]
  },
  {
   "cell_type": "markdown",
   "id": "01e93ea4",
   "metadata": {
    "id": "01e93ea4"
   },
   "source": [
    "En la gráfica anterior se ve claramente planchados los valores de los planes dominantes de cada tipo de servicio en los últimos 6 años.\n",
    "\n",
    "A continuación voy a buscar la comparativa de todos los planes en el mismo tiempo y por año, para lo cual hay que modificar la fórmula:"
   ]
  },
  {
   "cell_type": "code",
   "execution_count": null,
   "id": "d6d390a7",
   "metadata": {
    "id": "d6d390a7"
   },
   "outputs": [],
   "source": [
    "import polars as pl\n",
    "\n",
    "plan_max2 = \\\n",
    "(\n",
    "    df\n",
    "    .filter(\n",
    "        (\n",
    "            pl.col(\"Estado\") == \"ALTA\"\n",
    "        ) |\n",
    "        (\n",
    "            pl.col(\"Estado\") == \"UPGRADE\"\n",
    "        ) |\n",
    "        (\n",
    "            pl.col(\"Estado\") == \"FAILUPGRADE\"\n",
    "        )\n",
    "    )\n",
    "    .group_by(\n",
    "        [\"Periodo\"],\n",
    "        maintain_order = True\n",
    "    )\n",
    "    .agg(\n",
    "        plan_sipa_unique = pl.col(\"Plan_SIPA\").value_counts(sort = True)\n",
    "    )\n",
    ")\n",
    "\n",
    "display(plan_max2)"
   ]
  },
  {
   "cell_type": "code",
   "execution_count": null,
   "id": "7f07bcea",
   "metadata": {
    "id": "7f07bcea"
   },
   "outputs": [],
   "source": [
    "plan_max_chart2_temp = df.to_pandas()\n",
    "\n",
    "filtered_df = plan_max_chart2_temp[\n",
    "    (plan_max_chart2_temp['Estado'] == 'ALTA') |\n",
    "    (plan_max_chart2_temp['Estado'] == 'UPGRADE') |\n",
    "    (plan_max_chart2_temp['Estado'] == 'FAILUPGRADE')\n",
    "]\n",
    "\n",
    "grouped_df = filtered_df.groupby('Periodo')['Plan_SIPA'].value_counts().reset_index(name='plan_sipa_unique')\n",
    "\n",
    "grouped_df_pl = pl.DataFrame(grouped_df)\n",
    "\n",
    "plan_max_chart2 = alt.Chart(grouped_df_pl).mark_bar().encode(\n",
    "    x=alt.X('Plan_SIPA:N', title='Plan SIPA'),\n",
    "    y=alt.Y('plan_sipa_unique:Q', title='Frequency'),\n",
    "    color='Periodo:N',\n",
    "    tooltip=['Plan_SIPA:N', 'plan_sipa_unique:Q']\n",
    ").properties(\n",
    "    width=600,\n",
    "    height=400\n",
    ")\n",
    "\n",
    "display(plan_max_chart2)"
   ]
  },
  {
   "cell_type": "code",
   "execution_count": null,
   "id": "b0b65371",
   "metadata": {
    "id": "b0b65371"
   },
   "outputs": [],
   "source": [
    "plan_max_chart3_temp = df.to_pandas()\n",
    "\n",
    "filtered_df = plan_max_chart3_temp[\n",
    "    (plan_max_chart3_temp['Estado'] == 'ALTA') |\n",
    "    (plan_max_chart3_temp['Estado'] == 'UPGRADE') |\n",
    "    (plan_max_chart3_temp['Estado'] == 'FAILUPGRADE')\n",
    "]\n",
    "\n",
    "grouped_df = filtered_df.groupby('Periodo')['Plan_SIPA'].value_counts().reset_index(name='plan_sipa_unique')\n",
    "\n",
    "grouped_df['Periodo'], grouped_df['Plan_SIPA'] = grouped_df['Plan_SIPA'], grouped_df['Periodo']\n",
    "\n",
    "grouped_df_pl = pl.DataFrame(grouped_df)\n",
    "\n",
    "plan_max_chart3 = alt.Chart(grouped_df_pl).mark_line().encode(\n",
    "    x=alt.X('Plan_SIPA:N', title='Planes SIPA'),\n",
    "    y=alt.Y('plan_sipa_unique:Q', title='Frequency'),\n",
    "    color='Periodo:N',\n",
    "    tooltip=['Periodo:N', 'plan_sipa_unique:Q']\n",
    ").properties(\n",
    "    width=600,\n",
    "    height=400\n",
    ")\n",
    "\n",
    "display(plan_max_chart3)"
   ]
  },
  {
   "cell_type": "markdown",
   "id": "aef1abda",
   "metadata": {
    "id": "aef1abda"
   },
   "source": [
    "##### -> Ver que cantidad de clientes tienen contratado IPTV en el tiempo:"
   ]
  },
  {
   "cell_type": "code",
   "execution_count": null,
   "id": "a3d59da7",
   "metadata": {
    "id": "a3d59da7"
   },
   "outputs": [],
   "source": [
    "iptv = \\\n",
    "(\n",
    "    df\n",
    "    .filter\n",
    "    (\n",
    "        (\n",
    "            (\n",
    "                pl.col(\"Estado\") == \"ALTA\"\n",
    "            ) |\n",
    "            (\n",
    "                pl.col(\"Estado\") == \"UPGRADE\"\n",
    "            )\n",
    "        ) &\n",
    "        (\n",
    "            pl.col(\"IPTV\") == 1\n",
    "        )\n",
    "    )\n",
    "    .pivot(\n",
    "        index = \"IPTV\",\n",
    "        values = \"Periodo\",\n",
    "        columns = \"Periodo\",\n",
    "        aggregate_function = \"count\"\n",
    "    )\n",
    ")\n",
    "\n",
    "display(iptv)"
   ]
  },
  {
   "cell_type": "markdown",
   "id": "61a11de8",
   "metadata": {
    "id": "61a11de8"
   },
   "source": [
    "Si bien el servicio de TV tradicional está en declive a nivel mundial, se nota que los clientes, en menor medida, lo han adquirido a un ritmo de crecimiento del 100% anual desde el año 2021.\n",
    "\n",
    "Por otro lado esta fórmula me dio muchos problemas para hacerla funcionar con altair, asi que la reformulé a:"
   ]
  },
  {
   "cell_type": "code",
   "execution_count": null,
   "id": "73be1f6a",
   "metadata": {
    "id": "73be1f6a"
   },
   "outputs": [],
   "source": [
    "iptv2 = (\n",
    "    df\n",
    "    .filter(\n",
    "        (\n",
    "            (\n",
    "                pl.col(\"Estado\") == \"ALTA\"\n",
    "            ) |\n",
    "            (\n",
    "                pl.col(\"Estado\") == \"UPGRADE\"\n",
    "            )\n",
    "        ) &\n",
    "        (\n",
    "            pl.col(\"IPTV\") == 1\n",
    "        )\n",
    "    )\n",
    "    .group_by(\n",
    "        \"Periodo\",\n",
    "        maintain_order = True\n",
    "    )\n",
    "    .agg(\n",
    "        pl\n",
    "        .count(\"Periodo\")\n",
    "        .alias(\"count\")\n",
    "    )\n",
    ")\n",
    "\n",
    "display(iptv2)"
   ]
  },
  {
   "cell_type": "markdown",
   "id": "891898f8",
   "metadata": {
    "id": "891898f8"
   },
   "source": [
    "##### Visualización"
   ]
  },
  {
   "cell_type": "code",
   "execution_count": null,
   "id": "1644af94",
   "metadata": {
    "id": "1644af94"
   },
   "outputs": [],
   "source": [
    "iptv2_chart = alt.Chart(iptv2).mark_bar().encode(\n",
    "    x=alt.X('Periodo:O', title='Periodo'),\n",
    "    y=alt.Y('count:Q', title='Count'),\n",
    "    color=alt.Color('Periodo', legend=None)\n",
    ").properties(\n",
    "    title='IPTV Contratados por Año',\n",
    "    width=400,\n",
    "    height=250\n",
    ")\n",
    "\n",
    "display(iptv2_chart)"
   ]
  },
  {
   "cell_type": "markdown",
   "id": "942dcf86",
   "metadata": {
    "id": "942dcf86"
   },
   "source": [
    "Y aquí ya puede verse visualmente el crecimiento del servicio de IPTV en este proveedor."
   ]
  },
  {
   "cell_type": "markdown",
   "id": "bf928d2d",
   "metadata": {
    "id": "bf928d2d"
   },
   "source": [
    "-----.-----\n"
   ]
  },
  {
   "cell_type": "markdown",
   "id": "d4fe75b3-9024-45e3-b26a-4ba563c76359",
   "metadata": {},
   "source": [
    "## Implementación de Machine Learning"
   ]
  },
  {
   "cell_type": "markdown",
   "id": "918cc75a-a87c-4c78-8215-29dc6558d1ce",
   "metadata": {},
   "source": [
    "### Instalar librerías"
   ]
  },
  {
   "cell_type": "code",
   "execution_count": null,
   "id": "53563c67-bbe7-49e9-98a6-46a99b31e0e8",
   "metadata": {},
   "outputs": [],
   "source": [
    "!python -m pip uninstall scikit-learn"
   ]
  },
  {
   "cell_type": "code",
   "execution_count": null,
   "id": "b2c3727a-e61c-4fc0-aef4-530952c6e8a1",
   "metadata": {},
   "outputs": [],
   "source": [
    "!python -m pip install scikit-learn"
   ]
  },
  {
   "cell_type": "markdown",
   "id": "cd84f42f-5d91-40e1-bac7-6178d8d9bd41",
   "metadata": {},
   "source": [
    "### Importar librerías"
   ]
  },
  {
   "cell_type": "code",
   "execution_count": null,
   "id": "d32f3c67-8588-4a9c-828b-2ec36c9d387d",
   "metadata": {},
   "outputs": [],
   "source": [
    "import numpy as np\n",
    "\n",
    "from sklearn.model_selection import train_test_split\n",
    "from sklearn.preprocessing import RobustScaler, OneHotEncoder\n",
    "from sklearn.compose import ColumnTransformer\n",
    "from sklearn.pipeline import FeatureUnion, Pipeline\n",
    "from sklearn.base import clone\n",
    "from sklearn.ensemble import RandomForestClassifier\n",
    "from sklearn.svm import LinearSVC\n",
    "from sklearn.metrics import accuracy_score, recall_score\n",
    "from joblib import dump, load"
   ]
  },
  {
   "cell_type": "markdown",
   "id": "3e5d139b-e109-483d-ba7a-976a040a25f8",
   "metadata": {},
   "source": [
    "### Cargar y Verificar el Dataset"
   ]
  },
  {
   "cell_type": "code",
   "execution_count": null,
   "id": "1516567e-e4db-4cd0-a8f9-b4392c804b4c",
   "metadata": {},
   "outputs": [],
   "source": [
    "df = pl.read_csv(file_path_cleaned)"
   ]
  },
  {
   "cell_type": "markdown",
   "id": "b01811b0-fff8-40e3-888e-1c6dd6e359d4",
   "metadata": {},
   "source": [
    "### Agregar columna para predecir la -Renovación del Cliente-"
   ]
  },
  {
   "cell_type": "code",
   "execution_count": null,
   "id": "c6e62938-3b73-4ba1-8d5a-25d818ee70ce",
   "metadata": {},
   "outputs": [],
   "source": [
    "random_values = np.random.randint(2, size=len(df))\n",
    "\n",
    "df = df.with_columns([\n",
    "    pl.lit(random_values).alias(\"cliente_renueva\")\n",
    "])"
   ]
  },
  {
   "cell_type": "code",
   "execution_count": null,
   "id": "62b6c959-41f0-4bfc-8306-31d02a549dea",
   "metadata": {},
   "outputs": [],
   "source": [
    "df.sample(3)"
   ]
  },
  {
   "cell_type": "markdown",
   "id": "e93a8e3b-c6d3-4f73-a9f9-4ce469e528f7",
   "metadata": {},
   "source": [
    "### La empresa desea saber que clientes pueden renovar el servicio"
   ]
  },
  {
   "cell_type": "code",
   "execution_count": null,
   "id": "499c965c-a139-43fb-9ed8-c5bca3c4eb86",
   "metadata": {},
   "outputs": [],
   "source": [
    "df = df.drop(['ID_Cliente', 'ID_Contrato'])"
   ]
  },
  {
   "cell_type": "code",
   "execution_count": null,
   "id": "5fb51cff-6681-41e1-9427-b8c2f7f5a51e",
   "metadata": {},
   "outputs": [],
   "source": [
    "dfp = df.to_pandas()"
   ]
  },
  {
   "cell_type": "code",
   "execution_count": null,
   "id": "1a0ced52-7594-4f3f-9392-34c46e928eff",
   "metadata": {},
   "outputs": [],
   "source": [
    "cliente_renueva = dfp['cliente_renueva'].copy()\n",
    "\n",
    "dfp = dfp.drop('cliente_renueva', axis=1)"
   ]
  },
  {
   "cell_type": "code",
   "execution_count": null,
   "id": "8cf74e05-4e5c-49e9-8373-1a201216222c",
   "metadata": {},
   "outputs": [],
   "source": [
    "dfp.sample(3)"
   ]
  },
  {
   "cell_type": "code",
   "execution_count": null,
   "id": "7081eff1-674c-4a36-aa69-b1d4bc7c09e5",
   "metadata": {},
   "outputs": [],
   "source": [
    "cliente_renueva"
   ]
  },
  {
   "cell_type": "code",
   "execution_count": null,
   "id": "4d33a85e-3796-42b7-8128-1d6162686cf3",
   "metadata": {},
   "outputs": [],
   "source": [
    "original_count = len(dfp)\n",
    "training_size = 0.50\n",
    "test_size = (1 - training_size) / 2\n",
    "\n",
    "training_count = int(original_count * training_size)\n",
    "test_count = int(original_count * test_size)\n",
    "validation_count = original_count - training_count - test_count\n",
    "\n",
    "print(training_count, test_count, validation_count, original_count)"
   ]
  },
  {
   "cell_type": "code",
   "execution_count": null,
   "id": "946a961b-5501-4823-8d1a-8ab72bb7ae9c",
   "metadata": {},
   "outputs": [],
   "source": [
    "df.sample(3)"
   ]
  },
  {
   "cell_type": "code",
   "execution_count": null,
   "id": "0b1bab7f-589b-40ed-8dd8-ae0a16741545",
   "metadata": {},
   "outputs": [],
   "source": [
    "train_x, rest_x, train_y, rest_y = train_test_split(dfp, cliente_renueva, train_size=training_count)\n",
    "test_x, validate_x, test_y, validate_y = train_test_split(rest_x, rest_y, train_size=test_count)\n",
    "\n",
    "print(len(train_x), len(test_x), len(validate_x))"
   ]
  },
  {
   "cell_type": "code",
   "execution_count": null,
   "id": "b06970f7-6a1e-4d0f-a45a-49f28cabd738",
   "metadata": {},
   "outputs": [],
   "source": [
    "one_hot_encoding = ColumnTransformer([\n",
    "    (\n",
    "        'one_hot_encode',\n",
    "        OneHotEncoder(sparse_output=False, handle_unknown=\"ignore\"),\n",
    "        [\n",
    "            \"Barrio\",\n",
    "            \"Periodo\",\n",
    "            'Plan_SIPA',\n",
    "            \"Internet_Tipo\",\n",
    "            \"Estado\"\n",
    "        ]\n",
    "    )\n",
    "])"
   ]
  },
  {
   "cell_type": "code",
   "execution_count": null,
   "id": "612ea642-4bd2-4d5e-9d1a-b6ffaa154020",
   "metadata": {},
   "outputs": [],
   "source": [
    "scaler = ColumnTransformer([\n",
    "    (\"scaler\", RobustScaler(), [\"Ancho_Banda\"])\n",
    "])"
   ]
  },
  {
   "cell_type": "code",
   "execution_count": null,
   "id": "3427ec8e-baa7-4e7a-ad8c-f569dc8d87f6",
   "metadata": {},
   "outputs": [],
   "source": [
    "model_pipeline = pipe = Pipeline(\n",
    "    [\n",
    "        (\n",
    "            \"features\",\n",
    "            FeatureUnion(\n",
    "                [\n",
    "                    (\"categorical\", one_hot_encoding),\n",
    "                    (\"scaled\", scaler)\n",
    "                ]\n",
    "            ),\n",
    "        )\n",
    "    ]\n",
    ")"
   ]
  },
  {
   "cell_type": "code",
   "execution_count": null,
   "id": "a4672638-5c7a-4bef-b70b-27a6a827adbd",
   "metadata": {},
   "outputs": [],
   "source": [
    "binarized = model_pipeline.fit_transform(train_x)\n",
    "binarized.shape"
   ]
  },
  {
   "cell_type": "code",
   "execution_count": null,
   "id": "85895159-c7a7-45b3-94c5-fe0ecd036537",
   "metadata": {},
   "outputs": [],
   "source": [
    "binarized"
   ]
  },
  {
   "cell_type": "code",
   "execution_count": null,
   "id": "01176e77-fa19-455c-8ba7-8613ee48f2cd",
   "metadata": {},
   "outputs": [],
   "source": [
    "training_pipeline = Pipeline([\n",
    "    (\"model\", clone(model_pipeline)),\n",
    "    (\"estimators\", RandomForestClassifier(n_estimators=150))\n",
    "])"
   ]
  },
  {
   "cell_type": "code",
   "execution_count": null,
   "id": "370136a1-7b96-4ffa-9546-054c4198780a",
   "metadata": {},
   "outputs": [],
   "source": [
    "training_dataset = pd.concat([train_x, validate_x])\n",
    "training_response = pd.concat([train_y, validate_y])"
   ]
  },
  {
   "cell_type": "code",
   "execution_count": null,
   "id": "82aa48a9-b8ae-47b8-bd54-21a697db4931",
   "metadata": {},
   "outputs": [],
   "source": [
    "training_pipeline.fit(training_dataset, training_response)"
   ]
  },
  {
   "cell_type": "code",
   "execution_count": null,
   "id": "31b4557b-914f-4ad9-948d-9b076c6a0059",
   "metadata": {},
   "outputs": [],
   "source": [
    "ml_pred_y = training_pipeline.predict(test_x)\n",
    "\n",
    "print(accuracy_score(ml_pred_y, test_y))\n",
    "print(recall_score(ml_pred_y, test_y))"
   ]
  },
  {
   "cell_type": "code",
   "execution_count": null,
   "id": "bbddfed7-3062-44e2-a7d0-0768a4425989",
   "metadata": {},
   "outputs": [],
   "source": [
    "dump(training_pipeline, \"model_pipeline.joblib\")"
   ]
  },
  {
   "cell_type": "code",
   "execution_count": null,
   "id": "1ce9cef0-6e0b-4aa2-8ab2-9ccb38c0c1aa",
   "metadata": {},
   "outputs": [],
   "source": [
    "new_customers = pd.read_csv(file_path_cleaned)"
   ]
  },
  {
   "cell_type": "code",
   "execution_count": null,
   "id": "4836160c-e02b-42c0-89c6-ee607d5449dc",
   "metadata": {},
   "outputs": [],
   "source": [
    "new_customers.head(2)"
   ]
  },
  {
   "cell_type": "code",
   "execution_count": null,
   "id": "d9120b64-d7cc-4e1c-a45f-ab225c6c42f9",
   "metadata": {},
   "outputs": [],
   "source": [
    "training_model = load(\"model_pipeline.joblib\")"
   ]
  },
  {
   "cell_type": "code",
   "execution_count": null,
   "id": "ad4d905f-cf4a-4ac2-bd5a-a7f0b5fdc53e",
   "metadata": {},
   "outputs": [],
   "source": [
    "new_customers['cliente_renueva'] = training_model.predict(new_customers)"
   ]
  },
  {
   "cell_type": "code",
   "execution_count": null,
   "id": "cb23acbd-a97b-48a5-b58a-bd2f10727312",
   "metadata": {},
   "outputs": [],
   "source": [
    "len(new_customers[new_customers.cliente_renueva == 0]), len(new_customers[new_customers.cliente_renueva == 1])"
   ]
  },
  {
   "cell_type": "code",
   "execution_count": null,
   "id": "11656e8c-73f1-45d8-9c4b-edd8e91abe29",
   "metadata": {},
   "outputs": [],
   "source": [
    "new_customers[['ID_Cliente', 'ID_Contrato', 'cliente_renueva']].sort_values(by='cliente_renueva', ascending=False)"
   ]
  },
  {
   "cell_type": "markdown",
   "id": "5d67cacf-444c-4f88-bacc-c4d8618a1037",
   "metadata": {},
   "source": [
    "## Implementación del Deep Learning"
   ]
  },
  {
   "cell_type": "markdown",
   "id": "37245068-bbbb-40d6-b1b9-9c95dec0caf3",
   "metadata": {},
   "source": [
    "### Instalar librerías"
   ]
  },
  {
   "cell_type": "code",
   "execution_count": null,
   "id": "470433c4-f4c7-43cd-a1a6-4d51559664d4",
   "metadata": {},
   "outputs": [],
   "source": [
    "!python -m pip uninstall keras tensorflow"
   ]
  },
  {
   "cell_type": "code",
   "execution_count": null,
   "id": "2cc055c6-778f-4b01-8fe5-58bee3c9888b",
   "metadata": {},
   "outputs": [],
   "source": [
    "!python -m pip install keras tensorflow"
   ]
  },
  {
   "cell_type": "markdown",
   "id": "07f08495-d15b-4d2d-a724-b5854b760830",
   "metadata": {},
   "source": [
    "### Importar librerías"
   ]
  },
  {
   "cell_type": "code",
   "execution_count": null,
   "id": "c2cd8597-548f-4036-ba3f-8bc193864368",
   "metadata": {},
   "outputs": [],
   "source": [
    "import keras\n",
    "\n",
    "from keras.models import Sequential\n",
    "from keras.layers import Dense\n",
    "from sklearn.metrics import confusion_matrix"
   ]
  },
  {
   "cell_type": "code",
   "execution_count": null,
   "id": "ffb29824-c62f-4a2d-a45b-4d36781abcb5",
   "metadata": {},
   "outputs": [],
   "source": [
    "classifier = Sequential()"
   ]
  },
  {
   "cell_type": "markdown",
   "id": "acbf2b28-d6fd-460f-a577-c6549420f55e",
   "metadata": {},
   "source": [
    "### Creando Neuronas para automatizar la predicción ML"
   ]
  },
  {
   "cell_type": "code",
   "execution_count": null,
   "id": "7f4e7758-d411-4199-9b57-1a54e46cfbc2",
   "metadata": {},
   "outputs": [],
   "source": [
    "classifier.add(Dense(units=2, kernel_initializer = 'uniform', activation = 'relu', input_dim = 11))\n",
    "classifier.add(Dense(units=2, kernel_initializer = 'uniform', activation = 'relu'))\n",
    "classifier.add(Dense(units=2, kernel_initializer = 'uniform', activation = 'sigmoid'))"
   ]
  },
  {
   "cell_type": "code",
   "execution_count": null,
   "id": "9d25153c-aef8-4f9a-a899-a195c3661260",
   "metadata": {},
   "outputs": [],
   "source": [
    "classifier.compile(optimizer = 'adam', loss = 'binary_crossentropy', metrics = ['accuracy'])"
   ]
  },
  {
   "cell_type": "code",
   "execution_count": null,
   "id": "5a0c56b3-6b7c-4bf4-b796-6b9afa4b3409",
   "metadata": {},
   "outputs": [],
   "source": [
    "(train_x, train_y)"
   ]
  },
  {
   "cell_type": "code",
   "execution_count": null,
   "id": "579120a2-4841-473d-baab-a18260b60ef2",
   "metadata": {},
   "outputs": [],
   "source": [
    "# TODO: Pendiente verificar tipo\n",
    "classifier.fit(train_x, train_y, epochs = 100)"
   ]
  },
  {
   "cell_type": "code",
   "execution_count": null,
   "id": "2aa7aff1-a7b3-400b-b5cb-12d587eba788",
   "metadata": {},
   "outputs": [],
   "source": [
    "dl_pred_y = classifier.predict(test_x)\n",
    "dl_pred_y = (dl_pred_y > 0.5)"
   ]
  },
  {
   "cell_type": "code",
   "execution_count": null,
   "id": "24a1d84d-53fe-44ef-90ef-5f1ece35b4f7",
   "metadata": {},
   "outputs": [],
   "source": [
    "# TODO: Pendiente calcular la matris\n",
    "#cm = confusion_matrix(y_test, y_pred)\n",
    "#cm"
   ]
  },
  {
   "cell_type": "code",
   "execution_count": null,
   "id": "5fe48261-121e-4dd6-9f19-3770cbf241cd",
   "metadata": {},
   "outputs": [],
   "source": []
  }
 ],
 "metadata": {
  "colab": {
   "provenance": [
    {
     "file_id": "1_4R9G5axr10jxm9aJMhDN1P8SRPYbJyy",
     "timestamp": 1704864743536
    }
   ]
  },
  "kernelspec": {
   "display_name": "Python 3 (ipykernel)",
   "language": "python",
   "name": "python3"
  },
  "language_info": {
   "codemirror_mode": {
    "name": "ipython",
    "version": 3
   },
   "file_extension": ".py",
   "mimetype": "text/x-python",
   "name": "python",
   "nbconvert_exporter": "python",
   "pygments_lexer": "ipython3",
   "version": "3.11.5"
  }
 },
 "nbformat": 4,
 "nbformat_minor": 5
}
